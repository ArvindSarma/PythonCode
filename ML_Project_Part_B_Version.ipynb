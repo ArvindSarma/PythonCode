{
  "cells": [
    {
      "cell_type": "markdown",
      "id": "c2b214cc",
      "metadata": {
        "id": "c2b214cc"
      },
      "source": [
        "# Configuration"
      ]
    },
    {
      "cell_type": "code",
      "execution_count": null,
      "id": "f8d08948",
      "metadata": {
        "id": "f8d08948"
      },
      "outputs": [],
      "source": [
        "import os\n",
        "import numpy as np\n",
        "import pandas as pd\n",
        "import math\n",
        "import matplotlib.pylab as plt\n",
        "import seaborn as sns\n",
        "\n",
        "%matplotlib inline\n",
        "sns.set(style='ticks', palette='Set2')"
      ]
    },
    {
      "cell_type": "markdown",
      "id": "999bea96",
      "metadata": {
        "id": "999bea96"
      },
      "source": [
        "# Data ETL"
      ]
    },
    {
      "cell_type": "code",
      "execution_count": null,
      "id": "c31f48f7",
      "metadata": {
        "id": "c31f48f7"
      },
      "outputs": [],
      "source": [
        "# Import data into Pandas as a data frame\n",
        "df = pd.read_csv('./Simmons-data-raw.csv')\n",
        "print(df.shape)\n",
        "df[:]"
      ]
    },
    {
      "cell_type": "code",
      "execution_count": null,
      "id": "65805466",
      "metadata": {
        "id": "65805466"
      },
      "outputs": [],
      "source": [
        "df.dtypes"
      ]
    },
    {
      "cell_type": "markdown",
      "id": "37ad7ab6",
      "metadata": {
        "id": "37ad7ab6"
      },
      "source": [
        "# Main Block\n",
        "## Define Inputs & Target"
      ]
    },
    {
      "cell_type": "code",
      "execution_count": null,
      "id": "bf4c6189",
      "metadata": {
        "id": "bf4c6189"
      },
      "outputs": [],
      "source": [
        "predictor_cols = df.loc[:, df.columns != \"Coupon-Usage-Indicator\"].drop([\"Customer\"], axis=1)\n",
        "target_col = df[\"Coupon-Usage-Indicator\"]\n",
        "predictor_cols[:]"
      ]
    },
    {
      "cell_type": "code",
      "execution_count": null,
      "id": "99924dc3",
      "metadata": {
        "id": "99924dc3"
      },
      "outputs": [],
      "source": [
        "from sklearn import linear_model\n",
        "linlog_model = linear_model.LogisticRegression(max_iter=10000)\n",
        "# Fit the Logistic regression model now\n",
        "linlog_model.fit(predictor_cols, target_col)"
      ]
    },
    {
      "cell_type": "code",
      "execution_count": null,
      "id": "d15b81d0",
      "metadata": {
        "id": "d15b81d0"
      },
      "outputs": [],
      "source": [
        "# Logistic Regression exposing all default parameters.\n",
        "# sklearn.linear_model.LogisticRegression(penalty='l2', *, dual=False, tol=0.0001, C=1.0, fit_intercept=True, intercept_scaling=1, class_weight=None, random_state=None, solver='lbfgs', max_iter=100, multi_class='auto', verbose=0, warm_start=False, n_jobs=None, l1_ratio=None)"
      ]
    },
    {
      "cell_type": "markdown",
      "id": "ff87c70c",
      "metadata": {
        "id": "ff87c70c"
      },
      "source": [
        "## Evaluate Accuracy"
      ]
    },
    {
      "cell_type": "code",
      "execution_count": null,
      "id": "300beaaa",
      "metadata": {
        "id": "300beaaa"
      },
      "outputs": [],
      "source": [
        "from sklearn import metrics\n",
        "print (\"Accuracy = %.3f\" % (metrics.accuracy_score(linlog_model.predict(predictor_cols), df[\"Coupon-Usage-Indicator\"])))"
      ]
    },
    {
      "cell_type": "code",
      "execution_count": null,
      "id": "6ee682cb",
      "metadata": {
        "id": "6ee682cb"
      },
      "outputs": [],
      "source": [
        "# col_list = list(df.columns.values.tolist())\n",
        "print(\"Number of columns in data frame = \", len(df.columns))\n",
        "count = 0\n",
        "for col in df.columns:\n",
        "    if(col == \"Coupon_Usage_Indicator\"):\n",
        "        break\n",
        "        print(col,\"  \", linlog_model.coef_[0,count],\"\\n\")\n",
        "    count = count + 1\n",
        "print(\"Beta0 = \", linlog_model.intercept_)\n",
        "print(\"Beta1 = \", linlog_model.coef_)\n",
        "print(\"Classes = \", linlog_model.classes_)\n",
        "print(\"Number of features = \", linlog_model.n_features_in_)\n",
        "#print(\"get_params\", lin_model.get_params(deep=True))"
      ]
    },
    {
      "cell_type": "markdown",
      "id": "e04aa582",
      "metadata": {
        "id": "e04aa582"
      },
      "source": [
        "# Cross Validation"
      ]
    },
    {
      "cell_type": "code",
      "execution_count": null,
      "id": "1b9fefd8",
      "metadata": {
        "id": "1b9fefd8"
      },
      "outputs": [],
      "source": [
        "# Logistic Regression with Cross Validation exposing all paramters\n",
        "# sklearn.linear_model.LogisticRegressionCV(*, Cs=10, fit_intercept=True, cv=None, dual=False, penalty='l2', scoring=None, solver='lbfgs', tol=0.0001, max_iter=100, class_weight=None, n_jobs=None, verbose=0, refit=True, intercept_scaling=1.0, multi_class='auto', random_state=None, l1_ratios=None)"
      ]
    },
    {
      "cell_type": "code",
      "execution_count": null,
      "id": "99040cba",
      "metadata": {
        "id": "99040cba"
      },
      "outputs": [],
      "source": [
        "linlog_modelcv = linear_model.LogisticRegressionCV(cv=10,max_iter=10000)\n",
        "linlog_modelcv.fit(predictor_cols, target_col)\n",
        "print (\"Accuracy = %.3f\" % (metrics.accuracy_score(linlog_modelcv.predict(predictor_cols), target_col)))"
      ]
    },
    {
      "cell_type": "code",
      "execution_count": null,
      "id": "0540c7cc",
      "metadata": {
        "id": "0540c7cc"
      },
      "outputs": [],
      "source": [
        "print(\"Number of columns in data frame = \", len(df.columns))\n",
        "count = 0\n",
        "for col in df.columns:\n",
        "    if(col == \"Coupon_Usage_Indicator\"):\n",
        "        break\n",
        "        print(col,\"  \", linlog_modelcv.coef_[0,count],\"\\n\")\n",
        "    count = count + 1\n",
        "print(\"CV Beta0 = \", linlog_modelcv.intercept_)\n",
        "print(\"CV Beta1 = \", linlog_modelcv.coef_)\n",
        "print(\"CV Classes = \", linlog_model.classes_)\n",
        "print(\"CV Number of features = \", linlog_model.n_features_in_)\n",
        "#print(\"get_params\", linlog_modelcv.get_params(deep=True))"
      ]
    },
    {
      "cell_type": "markdown",
      "id": "0ab8705f",
      "metadata": {
        "id": "0ab8705f"
      },
      "source": [
        "# Predictive Code"
      ]
    },
    {
      "cell_type": "markdown",
      "id": "b21c0d1f",
      "metadata": {
        "id": "b21c0d1f"
      },
      "source": [
        "I used this site to eliminate the 'feature name' error from the two functions below.\n",
        "\n",
        "Problem Identification: https://stackoverflow.com/questions/69326639/sklearn-warning-valid-feature-names-in-version-1-0?answertab=trending#tab-top\n",
        "\n",
        "Pandas Data Frame constructor: https://pandas.pydata.org/docs/reference/api/pandas.DataFrame.html#pandas.DataFrame"
      ]
    },
    {
      "cell_type": "code",
      "execution_count": null,
      "id": "3ea365f7",
      "metadata": {
        "id": "3ea365f7"
      },
      "outputs": [],
      "source": [
        "# Define the prediction function\n",
        "def Predict_for_new_customer(X_new):\n",
        "    pred_val = linlog_model.predict(X_new)\n",
        "    print(\"Prediction for new value = \", pred_val)\n",
        "    if(pred_val == 1):\n",
        "        pred_valstr = \"Yes\"\n",
        "    elif(pred_val == 0):\n",
        "        pred_valstr = \"No\"\n",
        "\n",
        "    return(pred_valstr)"
      ]
    },
    {
      "cell_type": "code",
      "execution_count": null,
      "id": "be8ed554",
      "metadata": {
        "id": "be8ed554"
      },
      "outputs": [],
      "source": [
        "#Jack\n",
        "X_new1 = pd.DataFrame([[2,1]],columns = [\"Spending(000)\",\"Card\"])\n",
        "print(\"Shape:\", X_new1.shape)\n",
        "print(\"Predicted value for Jack = \" , Predict_for_new_customer(X_new1))\n",
        "print(\"Predicted probability of class 0 (Coupon_Usage_Indicator = 0) = \", (1-linlog_model.predict_proba(X_new1)[:,1]))"
      ]
    },
    {
      "cell_type": "code",
      "execution_count": null,
      "id": "320446c3",
      "metadata": {
        "id": "320446c3"
      },
      "outputs": [],
      "source": [
        "#Jill\n",
        "X_new2 = pd.DataFrame([[4,0]],columns = [\"Spending(000)\",\"Card\"])\n",
        "print(\"Shape:\", X_new2.shape)\n",
        "print(\"Predicted value for Jill = \" , Predict_for_new_customer(X_new2))\n",
        "print(\"Predicted probability of class 0 (Coupon_Usage_Indicator = 0) = \", (1-linlog_model.predict_proba(X_new2)[:,1]))"
      ]
    },
    {
      "cell_type": "markdown",
      "id": "d32fe03a",
      "metadata": {
        "id": "d32fe03a"
      },
      "source": [
        "## Predictive Cross-Validated Code"
      ]
    },
    {
      "cell_type": "code",
      "execution_count": null,
      "id": "a24a3351",
      "metadata": {
        "id": "a24a3351"
      },
      "outputs": [],
      "source": [
        "# Define the prediction function\n",
        "def CVPredict_for_new_customer(X_new):\n",
        "    pred_val = linlog_modelcv.predict(X_new)\n",
        "    print(\"Prediction for new value = \", pred_val)\n",
        "    if(pred_val == 1):\n",
        "        pred_valstr = \"Yes\"\n",
        "    elif(pred_val == 0):\n",
        "        pred_valstr = \"No\"\n",
        "\n",
        "    return(pred_valstr)"
      ]
    },
    {
      "cell_type": "code",
      "execution_count": null,
      "id": "143d2952",
      "metadata": {
        "id": "143d2952"
      },
      "outputs": [],
      "source": [
        "#Jack\n",
        "print(\"Shape:\", X_new1.shape)\n",
        "print(\"Predicted value for Jack = \" , CVPredict_for_new_customer(X_new1))\n",
        "print(\"Predicted probability of class 0 (Coupon_Usage_Indicator = 0) = \", (1-linlog_modelcv.predict_proba(X_new1)[:,1]))"
      ]
    },
    {
      "cell_type": "code",
      "execution_count": null,
      "id": "f407d20d",
      "metadata": {
        "id": "f407d20d"
      },
      "outputs": [],
      "source": [
        "# Jill\n",
        "print(\"Shape:\", X_new2.shape)\n",
        "print(\"Predicted value for Jill = \" , CVPredict_for_new_customer(X_new2))\n",
        "print(\"Predicted probability of class 0 (Coupon_Usage_Indicator = 0) = \", (1-linlog_modelcv.predict_proba(X_new2)[:,1]))"
      ]
    },
    {
      "cell_type": "markdown",
      "id": "af48294d",
      "metadata": {
        "id": "af48294d"
      },
      "source": [
        "# Establishing the cut-off"
      ]
    },
    {
      "cell_type": "code",
      "execution_count": null,
      "id": "28a3509a",
      "metadata": {
        "id": "28a3509a"
      },
      "outputs": [],
      "source": [
        "# Import the libraries we will be using\n",
        "import numpy as np\n",
        "import pandas as pd\n",
        "from sklearn.tree import DecisionTreeClassifier\n",
        "from sklearn.linear_model import LogisticRegression\n",
        "from sklearn.svm import SVC\n",
        "from sklearn import metrics\n",
        "from sklearn.model_selection import cross_val_score\n",
        "from sklearn.model_selection import train_test_split\n",
        "\n",
        "# Our custom libraries!\n",
        "import sys\n",
        "sys.path.append(\"..\")\n",
        "# from ds_utils.sample_data import *\n",
        "\n",
        "import matplotlib.pylab as plt\n",
        "%matplotlib inline\n",
        "plt.rcParams['figure.figsize'] = 15, 12"
      ]
    },
    {
      "cell_type": "code",
      "execution_count": null,
      "id": "91229994",
      "metadata": {
        "id": "91229994"
      },
      "outputs": [],
      "source": [
        "probabilities = linlog_model.predict(predictor_cols)\n",
        "probabilities.shape"
      ]
    },
    {
      "cell_type": "code",
      "execution_count": null,
      "id": "1e37bb4c",
      "metadata": {
        "id": "1e37bb4c"
      },
      "outputs": [],
      "source": [
        "def confusion_matrix_iter(prediction):\n",
        "    cutoff = probabilities > prediction\n",
        "    confusion_matrix = pd.DataFrame(metrics.confusion_matrix(target_col,cutoff))\n",
        "    confusion_matrix_normal = pd.DataFrame(metrics.confusion_matrix(target_col,cutoff, normalize='true'))\n",
        "\n",
        "    print(\"Count\")\n",
        "    print(confusion_matrix)\n",
        "    print()\n",
        "    print(\"Normalized\")\n",
        "    print(confusion_matrix_normal.round(decimals=3))"
      ]
    },
    {
      "cell_type": "code",
      "execution_count": null,
      "id": "feeb97ff",
      "metadata": {
        "scrolled": true,
        "id": "feeb97ff"
      },
      "outputs": [],
      "source": [
        "confusion_matrix_iter(0.5)"
      ]
    },
    {
      "cell_type": "code",
      "execution_count": null,
      "id": "d61990f4",
      "metadata": {
        "id": "d61990f4"
      },
      "outputs": [],
      "source": [
        "for i in [0.5, 0.6, 0.7, 0.8, 0.9]:\n",
        "    print (\"probabilities > \",i)\n",
        "    confusion_matrix_iter(i)\n",
        "    print()"
      ]
    }
  ],
  "metadata": {
    "kernelspec": {
      "display_name": "Python 3 (ipykernel)",
      "language": "python",
      "name": "python3"
    },
    "language_info": {
      "codemirror_mode": {
        "name": "ipython",
        "version": 3
      },
      "file_extension": ".py",
      "mimetype": "text/x-python",
      "name": "python",
      "nbconvert_exporter": "python",
      "pygments_lexer": "ipython3",
      "version": "3.9.16"
    },
    "colab": {
      "provenance": []
    }
  },
  "nbformat": 4,
  "nbformat_minor": 5
}