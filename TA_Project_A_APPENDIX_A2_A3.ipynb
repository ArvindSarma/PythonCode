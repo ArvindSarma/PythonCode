{
  "cells": [
    {
      "cell_type": "code",
      "execution_count": null,
      "id": "17fd6204",
      "metadata": {
        "id": "17fd6204",
        "outputId": "c509ad1a-b222-411f-80c9-364c6d1f423a"
      },
      "outputs": [
        {
          "name": "stdout",
          "output_type": "stream",
          "text": [
            "Requirement already satisfied: graphviz in c:\\users\\cr\\anaconda3\\lib\\site-packages (0.20.1)\n"
          ]
        }
      ],
      "source": [
        "import os\n",
        "import numpy as np\n",
        "import pandas as pd\n",
        "import math\n",
        "import matplotlib.pylab as plt\n",
        "import seaborn as sns\n",
        "\n",
        "%matplotlib inline\n",
        "sns.set(style='ticks', palette='Set2')\n",
        "!pip install graphviz\n",
        "\n",
        "\n",
        "from sklearn.tree import DecisionTreeClassifier\n",
        "from sklearn.linear_model import LogisticRegression\n",
        "from sklearn.svm import SVC\n",
        "from sklearn import metrics\n",
        "from sklearn.model_selection import cross_val_score\n",
        "from sklearn.model_selection import train_test_split\n",
        "\n",
        "# Our custom libraries!\n",
        "import sys\n",
        "sys.path.append(\"..\")\n",
        "# from ds_utils.sample_data import *\n",
        "\n",
        "import matplotlib.pylab as plt\n",
        "%matplotlib inline\n",
        "plt.rcParams['figure.figsize'] = 15, 12"
      ]
    },
    {
      "cell_type": "markdown",
      "id": "efb9c948",
      "metadata": {
        "id": "efb9c948"
      },
      "source": [
        "### PART A1\n",
        "For this part of the project, you will analyze the TelCo CHURN data set.\n",
        "Divide the entire data set into training and test sets (the test set should be\n",
        "25% of the original data set)"
      ]
    },
    {
      "cell_type": "code",
      "execution_count": null,
      "id": "8067c7d3",
      "metadata": {
        "id": "8067c7d3",
        "outputId": "034cadc7-cc61-48c9-a8d7-e8653b4b060b"
      },
      "outputs": [
        {
          "data": {
            "text/html": [
              "<div>\n",
              "<style scoped>\n",
              "    .dataframe tbody tr th:only-of-type {\n",
              "        vertical-align: middle;\n",
              "    }\n",
              "\n",
              "    .dataframe tbody tr th {\n",
              "        vertical-align: top;\n",
              "    }\n",
              "\n",
              "    .dataframe thead th {\n",
              "        text-align: right;\n",
              "    }\n",
              "</style>\n",
              "<table border=\"1\" class=\"dataframe\">\n",
              "  <thead>\n",
              "    <tr style=\"text-align: right;\">\n",
              "      <th></th>\n",
              "      <th>COLLEGE</th>\n",
              "      <th>INCOME</th>\n",
              "      <th>OVERAGE</th>\n",
              "      <th>LEFTOVER</th>\n",
              "      <th>HOUSE</th>\n",
              "      <th>HANDSET_PRICE</th>\n",
              "      <th>OVER_15MINS_CALLS_PER_MONTH</th>\n",
              "      <th>AVERAGE_CALL_DURATION</th>\n",
              "      <th>REPORTED_SATISFACTION</th>\n",
              "      <th>REPORTED_USAGE_LEVEL</th>\n",
              "      <th>CONSIDERING_CHANGE_OF_PLAN</th>\n",
              "      <th>LEAVE</th>\n",
              "    </tr>\n",
              "  </thead>\n",
              "  <tbody>\n",
              "    <tr>\n",
              "      <th>0</th>\n",
              "      <td>zero</td>\n",
              "      <td>31953</td>\n",
              "      <td>0</td>\n",
              "      <td>6</td>\n",
              "      <td>313378</td>\n",
              "      <td>161</td>\n",
              "      <td>0</td>\n",
              "      <td>4</td>\n",
              "      <td>unsat</td>\n",
              "      <td>little</td>\n",
              "      <td>no</td>\n",
              "      <td>STAY</td>\n",
              "    </tr>\n",
              "    <tr>\n",
              "      <th>1</th>\n",
              "      <td>one</td>\n",
              "      <td>36147</td>\n",
              "      <td>0</td>\n",
              "      <td>13</td>\n",
              "      <td>800586</td>\n",
              "      <td>244</td>\n",
              "      <td>0</td>\n",
              "      <td>6</td>\n",
              "      <td>unsat</td>\n",
              "      <td>little</td>\n",
              "      <td>considering</td>\n",
              "      <td>STAY</td>\n",
              "    </tr>\n",
              "    <tr>\n",
              "      <th>2</th>\n",
              "      <td>one</td>\n",
              "      <td>27273</td>\n",
              "      <td>230</td>\n",
              "      <td>0</td>\n",
              "      <td>305049</td>\n",
              "      <td>201</td>\n",
              "      <td>16</td>\n",
              "      <td>15</td>\n",
              "      <td>unsat</td>\n",
              "      <td>very_little</td>\n",
              "      <td>perhaps</td>\n",
              "      <td>STAY</td>\n",
              "    </tr>\n",
              "    <tr>\n",
              "      <th>3</th>\n",
              "      <td>zero</td>\n",
              "      <td>120070</td>\n",
              "      <td>38</td>\n",
              "      <td>33</td>\n",
              "      <td>788235</td>\n",
              "      <td>780</td>\n",
              "      <td>3</td>\n",
              "      <td>2</td>\n",
              "      <td>unsat</td>\n",
              "      <td>very_high</td>\n",
              "      <td>considering</td>\n",
              "      <td>LEAVE</td>\n",
              "    </tr>\n",
              "    <tr>\n",
              "      <th>4</th>\n",
              "      <td>one</td>\n",
              "      <td>29215</td>\n",
              "      <td>208</td>\n",
              "      <td>85</td>\n",
              "      <td>224784</td>\n",
              "      <td>241</td>\n",
              "      <td>21</td>\n",
              "      <td>1</td>\n",
              "      <td>very_unsat</td>\n",
              "      <td>little</td>\n",
              "      <td>never_thought</td>\n",
              "      <td>STAY</td>\n",
              "    </tr>\n",
              "  </tbody>\n",
              "</table>\n",
              "</div>"
            ],
            "text/plain": [
              "  COLLEGE  INCOME  OVERAGE  LEFTOVER   HOUSE  HANDSET_PRICE  \\\n",
              "0    zero   31953        0         6  313378            161   \n",
              "1     one   36147        0        13  800586            244   \n",
              "2     one   27273      230         0  305049            201   \n",
              "3    zero  120070       38        33  788235            780   \n",
              "4     one   29215      208        85  224784            241   \n",
              "\n",
              "   OVER_15MINS_CALLS_PER_MONTH  AVERAGE_CALL_DURATION REPORTED_SATISFACTION  \\\n",
              "0                            0                      4                 unsat   \n",
              "1                            0                      6                 unsat   \n",
              "2                           16                     15                 unsat   \n",
              "3                            3                      2                 unsat   \n",
              "4                           21                      1            very_unsat   \n",
              "\n",
              "  REPORTED_USAGE_LEVEL CONSIDERING_CHANGE_OF_PLAN  LEAVE  \n",
              "0               little                         no   STAY  \n",
              "1               little                considering   STAY  \n",
              "2          very_little                    perhaps   STAY  \n",
              "3            very_high                considering  LEAVE  \n",
              "4               little              never_thought   STAY  "
            ]
          },
          "execution_count": 41,
          "metadata": {},
          "output_type": "execute_result"
        }
      ],
      "source": [
        "df=pd.read_csv('C:/Users/cr/Documents/RutgersCoursework2022/Machine Learning Apllications/Python/Data/churn2 (1).csv')\n",
        "df.head()"
      ]
    },
    {
      "cell_type": "code",
      "execution_count": null,
      "id": "79f13368",
      "metadata": {
        "id": "79f13368",
        "outputId": "2252fcbf-1b8f-43f3-9cdb-d2a445013098"
      },
      "outputs": [
        {
          "data": {
            "text/plain": [
              "Index(['COLLEGE', 'INCOME', 'OVERAGE', 'LEFTOVER', 'HOUSE', 'HANDSET_PRICE',\n",
              "       'OVER_15MINS_CALLS_PER_MONTH', 'AVERAGE_CALL_DURATION',\n",
              "       'REPORTED_SATISFACTION', 'REPORTED_USAGE_LEVEL',\n",
              "       'CONSIDERING_CHANGE_OF_PLAN', 'LEAVE'],\n",
              "      dtype='object')"
            ]
          },
          "execution_count": 42,
          "metadata": {},
          "output_type": "execute_result"
        }
      ],
      "source": [
        "df.columns"
      ]
    },
    {
      "cell_type": "code",
      "execution_count": null,
      "id": "9fef668d",
      "metadata": {
        "id": "9fef668d",
        "outputId": "c94210ed-c178-4287-a926-6a851ac595db"
      },
      "outputs": [
        {
          "data": {
            "text/html": [
              "<div>\n",
              "<style scoped>\n",
              "    .dataframe tbody tr th:only-of-type {\n",
              "        vertical-align: middle;\n",
              "    }\n",
              "\n",
              "    .dataframe tbody tr th {\n",
              "        vertical-align: top;\n",
              "    }\n",
              "\n",
              "    .dataframe thead th {\n",
              "        text-align: right;\n",
              "    }\n",
              "</style>\n",
              "<table border=\"1\" class=\"dataframe\">\n",
              "  <thead>\n",
              "    <tr style=\"text-align: right;\">\n",
              "      <th></th>\n",
              "      <th>COLLEGE</th>\n",
              "      <th>INCOME</th>\n",
              "      <th>OVERAGE</th>\n",
              "      <th>LEFTOVER</th>\n",
              "      <th>HOUSE</th>\n",
              "      <th>HANDSET_PRICE</th>\n",
              "      <th>OVER_15MINS_CALLS_PER_MONTH</th>\n",
              "      <th>AVERAGE_CALL_DURATION</th>\n",
              "      <th>REPORTED_SATISFACTION</th>\n",
              "      <th>REPORTED_USAGE_LEVEL</th>\n",
              "      <th>CONSIDERING_CHANGE_OF_PLAN</th>\n",
              "      <th>LEAVE</th>\n",
              "    </tr>\n",
              "  </thead>\n",
              "  <tbody>\n",
              "    <tr>\n",
              "      <th>0</th>\n",
              "      <td>False</td>\n",
              "      <td>False</td>\n",
              "      <td>False</td>\n",
              "      <td>False</td>\n",
              "      <td>False</td>\n",
              "      <td>False</td>\n",
              "      <td>False</td>\n",
              "      <td>False</td>\n",
              "      <td>False</td>\n",
              "      <td>False</td>\n",
              "      <td>False</td>\n",
              "      <td>False</td>\n",
              "    </tr>\n",
              "    <tr>\n",
              "      <th>1</th>\n",
              "      <td>False</td>\n",
              "      <td>False</td>\n",
              "      <td>False</td>\n",
              "      <td>False</td>\n",
              "      <td>False</td>\n",
              "      <td>False</td>\n",
              "      <td>False</td>\n",
              "      <td>False</td>\n",
              "      <td>False</td>\n",
              "      <td>False</td>\n",
              "      <td>False</td>\n",
              "      <td>False</td>\n",
              "    </tr>\n",
              "    <tr>\n",
              "      <th>2</th>\n",
              "      <td>False</td>\n",
              "      <td>False</td>\n",
              "      <td>False</td>\n",
              "      <td>False</td>\n",
              "      <td>False</td>\n",
              "      <td>False</td>\n",
              "      <td>False</td>\n",
              "      <td>False</td>\n",
              "      <td>False</td>\n",
              "      <td>False</td>\n",
              "      <td>False</td>\n",
              "      <td>False</td>\n",
              "    </tr>\n",
              "    <tr>\n",
              "      <th>3</th>\n",
              "      <td>False</td>\n",
              "      <td>False</td>\n",
              "      <td>False</td>\n",
              "      <td>False</td>\n",
              "      <td>False</td>\n",
              "      <td>False</td>\n",
              "      <td>False</td>\n",
              "      <td>False</td>\n",
              "      <td>False</td>\n",
              "      <td>False</td>\n",
              "      <td>False</td>\n",
              "      <td>False</td>\n",
              "    </tr>\n",
              "    <tr>\n",
              "      <th>4</th>\n",
              "      <td>False</td>\n",
              "      <td>False</td>\n",
              "      <td>False</td>\n",
              "      <td>False</td>\n",
              "      <td>False</td>\n",
              "      <td>False</td>\n",
              "      <td>False</td>\n",
              "      <td>False</td>\n",
              "      <td>False</td>\n",
              "      <td>False</td>\n",
              "      <td>False</td>\n",
              "      <td>False</td>\n",
              "    </tr>\n",
              "    <tr>\n",
              "      <th>...</th>\n",
              "      <td>...</td>\n",
              "      <td>...</td>\n",
              "      <td>...</td>\n",
              "      <td>...</td>\n",
              "      <td>...</td>\n",
              "      <td>...</td>\n",
              "      <td>...</td>\n",
              "      <td>...</td>\n",
              "      <td>...</td>\n",
              "      <td>...</td>\n",
              "      <td>...</td>\n",
              "      <td>...</td>\n",
              "    </tr>\n",
              "    <tr>\n",
              "      <th>19995</th>\n",
              "      <td>False</td>\n",
              "      <td>False</td>\n",
              "      <td>False</td>\n",
              "      <td>False</td>\n",
              "      <td>False</td>\n",
              "      <td>False</td>\n",
              "      <td>False</td>\n",
              "      <td>False</td>\n",
              "      <td>False</td>\n",
              "      <td>False</td>\n",
              "      <td>False</td>\n",
              "      <td>False</td>\n",
              "    </tr>\n",
              "    <tr>\n",
              "      <th>19996</th>\n",
              "      <td>False</td>\n",
              "      <td>False</td>\n",
              "      <td>False</td>\n",
              "      <td>False</td>\n",
              "      <td>False</td>\n",
              "      <td>False</td>\n",
              "      <td>False</td>\n",
              "      <td>False</td>\n",
              "      <td>False</td>\n",
              "      <td>False</td>\n",
              "      <td>False</td>\n",
              "      <td>False</td>\n",
              "    </tr>\n",
              "    <tr>\n",
              "      <th>19997</th>\n",
              "      <td>False</td>\n",
              "      <td>False</td>\n",
              "      <td>False</td>\n",
              "      <td>False</td>\n",
              "      <td>False</td>\n",
              "      <td>False</td>\n",
              "      <td>False</td>\n",
              "      <td>False</td>\n",
              "      <td>False</td>\n",
              "      <td>False</td>\n",
              "      <td>False</td>\n",
              "      <td>False</td>\n",
              "    </tr>\n",
              "    <tr>\n",
              "      <th>19998</th>\n",
              "      <td>False</td>\n",
              "      <td>False</td>\n",
              "      <td>False</td>\n",
              "      <td>False</td>\n",
              "      <td>False</td>\n",
              "      <td>False</td>\n",
              "      <td>False</td>\n",
              "      <td>False</td>\n",
              "      <td>False</td>\n",
              "      <td>False</td>\n",
              "      <td>False</td>\n",
              "      <td>False</td>\n",
              "    </tr>\n",
              "    <tr>\n",
              "      <th>19999</th>\n",
              "      <td>False</td>\n",
              "      <td>False</td>\n",
              "      <td>False</td>\n",
              "      <td>False</td>\n",
              "      <td>False</td>\n",
              "      <td>False</td>\n",
              "      <td>False</td>\n",
              "      <td>False</td>\n",
              "      <td>False</td>\n",
              "      <td>False</td>\n",
              "      <td>False</td>\n",
              "      <td>False</td>\n",
              "    </tr>\n",
              "  </tbody>\n",
              "</table>\n",
              "<p>20000 rows × 12 columns</p>\n",
              "</div>"
            ],
            "text/plain": [
              "       COLLEGE  INCOME  OVERAGE  LEFTOVER  HOUSE  HANDSET_PRICE  \\\n",
              "0        False   False    False     False  False          False   \n",
              "1        False   False    False     False  False          False   \n",
              "2        False   False    False     False  False          False   \n",
              "3        False   False    False     False  False          False   \n",
              "4        False   False    False     False  False          False   \n",
              "...        ...     ...      ...       ...    ...            ...   \n",
              "19995    False   False    False     False  False          False   \n",
              "19996    False   False    False     False  False          False   \n",
              "19997    False   False    False     False  False          False   \n",
              "19998    False   False    False     False  False          False   \n",
              "19999    False   False    False     False  False          False   \n",
              "\n",
              "       OVER_15MINS_CALLS_PER_MONTH  AVERAGE_CALL_DURATION  \\\n",
              "0                            False                  False   \n",
              "1                            False                  False   \n",
              "2                            False                  False   \n",
              "3                            False                  False   \n",
              "4                            False                  False   \n",
              "...                            ...                    ...   \n",
              "19995                        False                  False   \n",
              "19996                        False                  False   \n",
              "19997                        False                  False   \n",
              "19998                        False                  False   \n",
              "19999                        False                  False   \n",
              "\n",
              "       REPORTED_SATISFACTION  REPORTED_USAGE_LEVEL  \\\n",
              "0                      False                 False   \n",
              "1                      False                 False   \n",
              "2                      False                 False   \n",
              "3                      False                 False   \n",
              "4                      False                 False   \n",
              "...                      ...                   ...   \n",
              "19995                  False                 False   \n",
              "19996                  False                 False   \n",
              "19997                  False                 False   \n",
              "19998                  False                 False   \n",
              "19999                  False                 False   \n",
              "\n",
              "       CONSIDERING_CHANGE_OF_PLAN  LEAVE  \n",
              "0                           False  False  \n",
              "1                           False  False  \n",
              "2                           False  False  \n",
              "3                           False  False  \n",
              "4                           False  False  \n",
              "...                           ...    ...  \n",
              "19995                       False  False  \n",
              "19996                       False  False  \n",
              "19997                       False  False  \n",
              "19998                       False  False  \n",
              "19999                       False  False  \n",
              "\n",
              "[20000 rows x 12 columns]"
            ]
          },
          "execution_count": 43,
          "metadata": {},
          "output_type": "execute_result"
        }
      ],
      "source": [
        "#Checking For null values\n",
        "df.isnull()"
      ]
    },
    {
      "cell_type": "code",
      "execution_count": null,
      "id": "c00db7d9",
      "metadata": {
        "scrolled": true,
        "id": "c00db7d9",
        "outputId": "6d0a0c28-0e5f-4cd6-b7f9-8c3575732134"
      },
      "outputs": [
        {
          "data": {
            "text/plain": [
              "COLLEGE                        False\n",
              "INCOME                         False\n",
              "OVERAGE                        False\n",
              "LEFTOVER                       False\n",
              "HOUSE                          False\n",
              "HANDSET_PRICE                  False\n",
              "OVER_15MINS_CALLS_PER_MONTH    False\n",
              "AVERAGE_CALL_DURATION          False\n",
              "REPORTED_SATISFACTION          False\n",
              "REPORTED_USAGE_LEVEL           False\n",
              "CONSIDERING_CHANGE_OF_PLAN     False\n",
              "LEAVE                          False\n",
              "dtype: bool"
            ]
          },
          "execution_count": 44,
          "metadata": {},
          "output_type": "execute_result"
        }
      ],
      "source": [
        "#checking for null values in each column\n",
        "df.isnull().any()"
      ]
    },
    {
      "cell_type": "code",
      "execution_count": null,
      "id": "764c35ad",
      "metadata": {
        "id": "764c35ad",
        "outputId": "433270af-b6a6-416e-ec59-d3c309617a65"
      },
      "outputs": [
        {
          "data": {
            "text/plain": [
              "COLLEGE                        object\n",
              "INCOME                          int64\n",
              "OVERAGE                         int64\n",
              "LEFTOVER                        int64\n",
              "HOUSE                           int64\n",
              "HANDSET_PRICE                   int64\n",
              "OVER_15MINS_CALLS_PER_MONTH     int64\n",
              "AVERAGE_CALL_DURATION           int64\n",
              "REPORTED_SATISFACTION          object\n",
              "REPORTED_USAGE_LEVEL           object\n",
              "CONSIDERING_CHANGE_OF_PLAN     object\n",
              "LEAVE                          object\n",
              "dtype: object"
            ]
          },
          "execution_count": 45,
          "metadata": {},
          "output_type": "execute_result"
        }
      ],
      "source": [
        "#Checking for data types of each column\n",
        "df.dtypes"
      ]
    },
    {
      "cell_type": "code",
      "execution_count": null,
      "id": "0f0ecd45",
      "metadata": {
        "id": "0f0ecd45",
        "outputId": "cc87ad9d-6768-402f-dbce-4a734f826482"
      },
      "outputs": [
        {
          "data": {
            "text/plain": [
              "array(['unsat', 'very_unsat', 'very_sat', 'avg', 'sat'], dtype=object)"
            ]
          },
          "execution_count": 46,
          "metadata": {},
          "output_type": "execute_result"
        }
      ],
      "source": [
        "df['REPORTED_SATISFACTION'].unique()"
      ]
    },
    {
      "cell_type": "code",
      "execution_count": null,
      "id": "757d654a",
      "metadata": {
        "id": "757d654a",
        "outputId": "27c6b5ce-2df4-4196-a6d8-20d8ee5de02e"
      },
      "outputs": [
        {
          "data": {
            "text/plain": [
              "array(['little', 'very_little', 'very_high', 'high', 'avg'], dtype=object)"
            ]
          },
          "execution_count": 47,
          "metadata": {},
          "output_type": "execute_result"
        }
      ],
      "source": [
        "df['REPORTED_USAGE_LEVEL'].unique()"
      ]
    },
    {
      "cell_type": "code",
      "execution_count": null,
      "id": "7c0eb76b",
      "metadata": {
        "id": "7c0eb76b",
        "outputId": "7f26f987-884e-4fff-c296-d0706f702ece"
      },
      "outputs": [
        {
          "data": {
            "text/plain": [
              "array(['no', 'considering', 'perhaps', 'never_thought',\n",
              "       'actively_looking_into_it'], dtype=object)"
            ]
          },
          "execution_count": 48,
          "metadata": {},
          "output_type": "execute_result"
        }
      ],
      "source": [
        "df['CONSIDERING_CHANGE_OF_PLAN'].unique()"
      ]
    },
    {
      "cell_type": "code",
      "execution_count": null,
      "id": "53600a34",
      "metadata": {
        "id": "53600a34",
        "outputId": "94464708-b86c-4fad-99f3-e4cf3986cce1"
      },
      "outputs": [
        {
          "data": {
            "text/plain": [
              "array(['STAY', 'LEAVE'], dtype=object)"
            ]
          },
          "execution_count": 49,
          "metadata": {},
          "output_type": "execute_result"
        }
      ],
      "source": [
        "df['LEAVE'].unique()"
      ]
    },
    {
      "cell_type": "code",
      "execution_count": null,
      "id": "0ed28a70",
      "metadata": {
        "id": "0ed28a70",
        "outputId": "658b6331-425b-488d-c65b-3457d6c50031"
      },
      "outputs": [
        {
          "data": {
            "text/plain": [
              "array(['zero', 'one'], dtype=object)"
            ]
          },
          "execution_count": 50,
          "metadata": {},
          "output_type": "execute_result"
        }
      ],
      "source": [
        "df['COLLEGE'].unique()"
      ]
    },
    {
      "cell_type": "code",
      "execution_count": null,
      "id": "5e3df937",
      "metadata": {
        "id": "5e3df937",
        "outputId": "e8290a9d-64fe-4c67-ebdc-f7162e72ce1c"
      },
      "outputs": [
        {
          "data": {
            "text/html": [
              "<div>\n",
              "<style scoped>\n",
              "    .dataframe tbody tr th:only-of-type {\n",
              "        vertical-align: middle;\n",
              "    }\n",
              "\n",
              "    .dataframe tbody tr th {\n",
              "        vertical-align: top;\n",
              "    }\n",
              "\n",
              "    .dataframe thead th {\n",
              "        text-align: right;\n",
              "    }\n",
              "</style>\n",
              "<table border=\"1\" class=\"dataframe\">\n",
              "  <thead>\n",
              "    <tr style=\"text-align: right;\">\n",
              "      <th></th>\n",
              "      <th>COLLEGE</th>\n",
              "      <th>INCOME</th>\n",
              "      <th>OVERAGE</th>\n",
              "      <th>LEFTOVER</th>\n",
              "      <th>HOUSE</th>\n",
              "      <th>HANDSET_PRICE</th>\n",
              "      <th>OVER_15MINS_CALLS_PER_MONTH</th>\n",
              "      <th>AVERAGE_CALL_DURATION</th>\n",
              "      <th>REPORTED_SATISFACTION</th>\n",
              "      <th>REPORTED_USAGE_LEVEL</th>\n",
              "      <th>CONSIDERING_CHANGE_OF_PLAN</th>\n",
              "      <th>LEAVE2</th>\n",
              "    </tr>\n",
              "  </thead>\n",
              "  <tbody>\n",
              "    <tr>\n",
              "      <th>0</th>\n",
              "      <td>zero</td>\n",
              "      <td>31953</td>\n",
              "      <td>0</td>\n",
              "      <td>6</td>\n",
              "      <td>313378</td>\n",
              "      <td>161</td>\n",
              "      <td>0</td>\n",
              "      <td>4</td>\n",
              "      <td>unsat</td>\n",
              "      <td>little</td>\n",
              "      <td>no</td>\n",
              "      <td>1</td>\n",
              "    </tr>\n",
              "    <tr>\n",
              "      <th>1</th>\n",
              "      <td>one</td>\n",
              "      <td>36147</td>\n",
              "      <td>0</td>\n",
              "      <td>13</td>\n",
              "      <td>800586</td>\n",
              "      <td>244</td>\n",
              "      <td>0</td>\n",
              "      <td>6</td>\n",
              "      <td>unsat</td>\n",
              "      <td>little</td>\n",
              "      <td>considering</td>\n",
              "      <td>1</td>\n",
              "    </tr>\n",
              "    <tr>\n",
              "      <th>2</th>\n",
              "      <td>one</td>\n",
              "      <td>27273</td>\n",
              "      <td>230</td>\n",
              "      <td>0</td>\n",
              "      <td>305049</td>\n",
              "      <td>201</td>\n",
              "      <td>16</td>\n",
              "      <td>15</td>\n",
              "      <td>unsat</td>\n",
              "      <td>very_little</td>\n",
              "      <td>perhaps</td>\n",
              "      <td>1</td>\n",
              "    </tr>\n",
              "    <tr>\n",
              "      <th>3</th>\n",
              "      <td>zero</td>\n",
              "      <td>120070</td>\n",
              "      <td>38</td>\n",
              "      <td>33</td>\n",
              "      <td>788235</td>\n",
              "      <td>780</td>\n",
              "      <td>3</td>\n",
              "      <td>2</td>\n",
              "      <td>unsat</td>\n",
              "      <td>very_high</td>\n",
              "      <td>considering</td>\n",
              "      <td>0</td>\n",
              "    </tr>\n",
              "    <tr>\n",
              "      <th>4</th>\n",
              "      <td>one</td>\n",
              "      <td>29215</td>\n",
              "      <td>208</td>\n",
              "      <td>85</td>\n",
              "      <td>224784</td>\n",
              "      <td>241</td>\n",
              "      <td>21</td>\n",
              "      <td>1</td>\n",
              "      <td>very_unsat</td>\n",
              "      <td>little</td>\n",
              "      <td>never_thought</td>\n",
              "      <td>1</td>\n",
              "    </tr>\n",
              "  </tbody>\n",
              "</table>\n",
              "</div>"
            ],
            "text/plain": [
              "  COLLEGE  INCOME  OVERAGE  LEFTOVER   HOUSE  HANDSET_PRICE  \\\n",
              "0    zero   31953        0         6  313378            161   \n",
              "1     one   36147        0        13  800586            244   \n",
              "2     one   27273      230         0  305049            201   \n",
              "3    zero  120070       38        33  788235            780   \n",
              "4     one   29215      208        85  224784            241   \n",
              "\n",
              "   OVER_15MINS_CALLS_PER_MONTH  AVERAGE_CALL_DURATION REPORTED_SATISFACTION  \\\n",
              "0                            0                      4                 unsat   \n",
              "1                            0                      6                 unsat   \n",
              "2                           16                     15                 unsat   \n",
              "3                            3                      2                 unsat   \n",
              "4                           21                      1            very_unsat   \n",
              "\n",
              "  REPORTED_USAGE_LEVEL CONSIDERING_CHANGE_OF_PLAN  LEAVE2  \n",
              "0               little                         no       1  \n",
              "1               little                considering       1  \n",
              "2          very_little                    perhaps       1  \n",
              "3            very_high                considering       0  \n",
              "4               little              never_thought       1  "
            ]
          },
          "execution_count": 51,
          "metadata": {},
          "output_type": "execute_result"
        }
      ],
      "source": [
        "# Converting categorical datatypes to Numerical(College,Leave)\n",
        "df[\"LEAVE2\"] = (df.LEAVE == \"STAY\").astype(int)\n",
        "df = df.drop(\"LEAVE\", axis=\"columns\")\n",
        "df.head(5)"
      ]
    },
    {
      "cell_type": "code",
      "execution_count": null,
      "id": "d7df76be",
      "metadata": {
        "id": "d7df76be",
        "outputId": "134279da-9264-4d72-959c-13ab7c4a8100"
      },
      "outputs": [
        {
          "data": {
            "text/html": [
              "<div>\n",
              "<style scoped>\n",
              "    .dataframe tbody tr th:only-of-type {\n",
              "        vertical-align: middle;\n",
              "    }\n",
              "\n",
              "    .dataframe tbody tr th {\n",
              "        vertical-align: top;\n",
              "    }\n",
              "\n",
              "    .dataframe thead th {\n",
              "        text-align: right;\n",
              "    }\n",
              "</style>\n",
              "<table border=\"1\" class=\"dataframe\">\n",
              "  <thead>\n",
              "    <tr style=\"text-align: right;\">\n",
              "      <th></th>\n",
              "      <th>INCOME</th>\n",
              "      <th>OVERAGE</th>\n",
              "      <th>LEFTOVER</th>\n",
              "      <th>HOUSE</th>\n",
              "      <th>HANDSET_PRICE</th>\n",
              "      <th>OVER_15MINS_CALLS_PER_MONTH</th>\n",
              "      <th>AVERAGE_CALL_DURATION</th>\n",
              "      <th>REPORTED_SATISFACTION</th>\n",
              "      <th>REPORTED_USAGE_LEVEL</th>\n",
              "      <th>CONSIDERING_CHANGE_OF_PLAN</th>\n",
              "      <th>LEAVE2</th>\n",
              "      <th>COLLEGE2</th>\n",
              "    </tr>\n",
              "  </thead>\n",
              "  <tbody>\n",
              "    <tr>\n",
              "      <th>0</th>\n",
              "      <td>31953</td>\n",
              "      <td>0</td>\n",
              "      <td>6</td>\n",
              "      <td>313378</td>\n",
              "      <td>161</td>\n",
              "      <td>0</td>\n",
              "      <td>4</td>\n",
              "      <td>unsat</td>\n",
              "      <td>little</td>\n",
              "      <td>no</td>\n",
              "      <td>1</td>\n",
              "      <td>0</td>\n",
              "    </tr>\n",
              "    <tr>\n",
              "      <th>1</th>\n",
              "      <td>36147</td>\n",
              "      <td>0</td>\n",
              "      <td>13</td>\n",
              "      <td>800586</td>\n",
              "      <td>244</td>\n",
              "      <td>0</td>\n",
              "      <td>6</td>\n",
              "      <td>unsat</td>\n",
              "      <td>little</td>\n",
              "      <td>considering</td>\n",
              "      <td>1</td>\n",
              "      <td>1</td>\n",
              "    </tr>\n",
              "    <tr>\n",
              "      <th>2</th>\n",
              "      <td>27273</td>\n",
              "      <td>230</td>\n",
              "      <td>0</td>\n",
              "      <td>305049</td>\n",
              "      <td>201</td>\n",
              "      <td>16</td>\n",
              "      <td>15</td>\n",
              "      <td>unsat</td>\n",
              "      <td>very_little</td>\n",
              "      <td>perhaps</td>\n",
              "      <td>1</td>\n",
              "      <td>1</td>\n",
              "    </tr>\n",
              "    <tr>\n",
              "      <th>3</th>\n",
              "      <td>120070</td>\n",
              "      <td>38</td>\n",
              "      <td>33</td>\n",
              "      <td>788235</td>\n",
              "      <td>780</td>\n",
              "      <td>3</td>\n",
              "      <td>2</td>\n",
              "      <td>unsat</td>\n",
              "      <td>very_high</td>\n",
              "      <td>considering</td>\n",
              "      <td>0</td>\n",
              "      <td>0</td>\n",
              "    </tr>\n",
              "    <tr>\n",
              "      <th>4</th>\n",
              "      <td>29215</td>\n",
              "      <td>208</td>\n",
              "      <td>85</td>\n",
              "      <td>224784</td>\n",
              "      <td>241</td>\n",
              "      <td>21</td>\n",
              "      <td>1</td>\n",
              "      <td>very_unsat</td>\n",
              "      <td>little</td>\n",
              "      <td>never_thought</td>\n",
              "      <td>1</td>\n",
              "      <td>1</td>\n",
              "    </tr>\n",
              "  </tbody>\n",
              "</table>\n",
              "</div>"
            ],
            "text/plain": [
              "   INCOME  OVERAGE  LEFTOVER   HOUSE  HANDSET_PRICE  \\\n",
              "0   31953        0         6  313378            161   \n",
              "1   36147        0        13  800586            244   \n",
              "2   27273      230         0  305049            201   \n",
              "3  120070       38        33  788235            780   \n",
              "4   29215      208        85  224784            241   \n",
              "\n",
              "   OVER_15MINS_CALLS_PER_MONTH  AVERAGE_CALL_DURATION REPORTED_SATISFACTION  \\\n",
              "0                            0                      4                 unsat   \n",
              "1                            0                      6                 unsat   \n",
              "2                           16                     15                 unsat   \n",
              "3                            3                      2                 unsat   \n",
              "4                           21                      1            very_unsat   \n",
              "\n",
              "  REPORTED_USAGE_LEVEL CONSIDERING_CHANGE_OF_PLAN  LEAVE2  COLLEGE2  \n",
              "0               little                         no       1         0  \n",
              "1               little                considering       1         1  \n",
              "2          very_little                    perhaps       1         1  \n",
              "3            very_high                considering       0         0  \n",
              "4               little              never_thought       1         1  "
            ]
          },
          "execution_count": 52,
          "metadata": {},
          "output_type": "execute_result"
        }
      ],
      "source": [
        "#df[\"COLLEGE2\"] = (df.COLLEGE == \"one\").astype(int)\n",
        "df[\"COLLEGE2\"] = (df.COLLEGE == \"one\").astype(int)\n",
        "df = df.drop(\"COLLEGE\", axis=\"columns\")\n",
        "df.head(5)"
      ]
    },
    {
      "cell_type": "code",
      "execution_count": null,
      "id": "c062c561",
      "metadata": {
        "id": "c062c561"
      },
      "outputs": [],
      "source": [
        "# Converting categorical datatypes to Numerical(REPORTED_SATISFACTION,REPORTED_USAGE_LEVEL,CONSIDERING_CHANGE_OF_PLAN)\n",
        "\n",
        "from sklearn.preprocessing import LabelEncoder\n",
        "\n",
        "# Create a LabelEncoder object and fit it to the data\n",
        "le = LabelEncoder()\n",
        "le.fit(df['REPORTED_SATISFACTION'])\n",
        "\n",
        "# Transform the data using the encoder\n",
        "encodedvalue1 = le.transform(df['REPORTED_SATISFACTION'])\n",
        "df['REPORTED_SATISFACTION']= encodedvalue1\n",
        "\n"
      ]
    },
    {
      "cell_type": "code",
      "execution_count": null,
      "id": "928e0780",
      "metadata": {
        "id": "928e0780",
        "outputId": "2036b431-304f-4275-f7e7-4999abb76644"
      },
      "outputs": [
        {
          "data": {
            "text/html": [
              "<div>\n",
              "<style scoped>\n",
              "    .dataframe tbody tr th:only-of-type {\n",
              "        vertical-align: middle;\n",
              "    }\n",
              "\n",
              "    .dataframe tbody tr th {\n",
              "        vertical-align: top;\n",
              "    }\n",
              "\n",
              "    .dataframe thead th {\n",
              "        text-align: right;\n",
              "    }\n",
              "</style>\n",
              "<table border=\"1\" class=\"dataframe\">\n",
              "  <thead>\n",
              "    <tr style=\"text-align: right;\">\n",
              "      <th></th>\n",
              "      <th>INCOME</th>\n",
              "      <th>OVERAGE</th>\n",
              "      <th>LEFTOVER</th>\n",
              "      <th>HOUSE</th>\n",
              "      <th>HANDSET_PRICE</th>\n",
              "      <th>OVER_15MINS_CALLS_PER_MONTH</th>\n",
              "      <th>AVERAGE_CALL_DURATION</th>\n",
              "      <th>REPORTED_SATISFACTION</th>\n",
              "      <th>REPORTED_USAGE_LEVEL</th>\n",
              "      <th>CONSIDERING_CHANGE_OF_PLAN</th>\n",
              "      <th>LEAVE2</th>\n",
              "      <th>COLLEGE2</th>\n",
              "    </tr>\n",
              "  </thead>\n",
              "  <tbody>\n",
              "    <tr>\n",
              "      <th>0</th>\n",
              "      <td>31953</td>\n",
              "      <td>0</td>\n",
              "      <td>6</td>\n",
              "      <td>313378</td>\n",
              "      <td>161</td>\n",
              "      <td>0</td>\n",
              "      <td>4</td>\n",
              "      <td>2</td>\n",
              "      <td>little</td>\n",
              "      <td>no</td>\n",
              "      <td>1</td>\n",
              "      <td>0</td>\n",
              "    </tr>\n",
              "    <tr>\n",
              "      <th>1</th>\n",
              "      <td>36147</td>\n",
              "      <td>0</td>\n",
              "      <td>13</td>\n",
              "      <td>800586</td>\n",
              "      <td>244</td>\n",
              "      <td>0</td>\n",
              "      <td>6</td>\n",
              "      <td>2</td>\n",
              "      <td>little</td>\n",
              "      <td>considering</td>\n",
              "      <td>1</td>\n",
              "      <td>1</td>\n",
              "    </tr>\n",
              "    <tr>\n",
              "      <th>2</th>\n",
              "      <td>27273</td>\n",
              "      <td>230</td>\n",
              "      <td>0</td>\n",
              "      <td>305049</td>\n",
              "      <td>201</td>\n",
              "      <td>16</td>\n",
              "      <td>15</td>\n",
              "      <td>2</td>\n",
              "      <td>very_little</td>\n",
              "      <td>perhaps</td>\n",
              "      <td>1</td>\n",
              "      <td>1</td>\n",
              "    </tr>\n",
              "    <tr>\n",
              "      <th>3</th>\n",
              "      <td>120070</td>\n",
              "      <td>38</td>\n",
              "      <td>33</td>\n",
              "      <td>788235</td>\n",
              "      <td>780</td>\n",
              "      <td>3</td>\n",
              "      <td>2</td>\n",
              "      <td>2</td>\n",
              "      <td>very_high</td>\n",
              "      <td>considering</td>\n",
              "      <td>0</td>\n",
              "      <td>0</td>\n",
              "    </tr>\n",
              "    <tr>\n",
              "      <th>4</th>\n",
              "      <td>29215</td>\n",
              "      <td>208</td>\n",
              "      <td>85</td>\n",
              "      <td>224784</td>\n",
              "      <td>241</td>\n",
              "      <td>21</td>\n",
              "      <td>1</td>\n",
              "      <td>4</td>\n",
              "      <td>little</td>\n",
              "      <td>never_thought</td>\n",
              "      <td>1</td>\n",
              "      <td>1</td>\n",
              "    </tr>\n",
              "  </tbody>\n",
              "</table>\n",
              "</div>"
            ],
            "text/plain": [
              "   INCOME  OVERAGE  LEFTOVER   HOUSE  HANDSET_PRICE  \\\n",
              "0   31953        0         6  313378            161   \n",
              "1   36147        0        13  800586            244   \n",
              "2   27273      230         0  305049            201   \n",
              "3  120070       38        33  788235            780   \n",
              "4   29215      208        85  224784            241   \n",
              "\n",
              "   OVER_15MINS_CALLS_PER_MONTH  AVERAGE_CALL_DURATION  REPORTED_SATISFACTION  \\\n",
              "0                            0                      4                      2   \n",
              "1                            0                      6                      2   \n",
              "2                           16                     15                      2   \n",
              "3                            3                      2                      2   \n",
              "4                           21                      1                      4   \n",
              "\n",
              "  REPORTED_USAGE_LEVEL CONSIDERING_CHANGE_OF_PLAN  LEAVE2  COLLEGE2  \n",
              "0               little                         no       1         0  \n",
              "1               little                considering       1         1  \n",
              "2          very_little                    perhaps       1         1  \n",
              "3            very_high                considering       0         0  \n",
              "4               little              never_thought       1         1  "
            ]
          },
          "execution_count": 54,
          "metadata": {},
          "output_type": "execute_result"
        }
      ],
      "source": [
        "df.head()"
      ]
    },
    {
      "cell_type": "code",
      "execution_count": null,
      "id": "c88b295b",
      "metadata": {
        "id": "c88b295b"
      },
      "outputs": [],
      "source": [
        "le.fit(df['REPORTED_USAGE_LEVEL'])\n",
        "encodevalue2= le.transform(df['REPORTED_USAGE_LEVEL'])\n",
        "df['REPORTED_USAGE_LEVEL']= encodevalue2"
      ]
    },
    {
      "cell_type": "code",
      "execution_count": null,
      "id": "bf72acbf",
      "metadata": {
        "id": "bf72acbf"
      },
      "outputs": [],
      "source": [
        "le.fit(df['CONSIDERING_CHANGE_OF_PLAN'])\n",
        "encodevalue3= le.transform(df['CONSIDERING_CHANGE_OF_PLAN'])\n",
        "df['CONSIDERING_CHANGE_OF_PLAN']= encodevalue3"
      ]
    },
    {
      "cell_type": "code",
      "execution_count": null,
      "id": "02341a82",
      "metadata": {
        "id": "02341a82",
        "outputId": "13ad72e9-92b4-4cf0-e205-aa7a619c8ff1"
      },
      "outputs": [
        {
          "data": {
            "text/html": [
              "<div>\n",
              "<style scoped>\n",
              "    .dataframe tbody tr th:only-of-type {\n",
              "        vertical-align: middle;\n",
              "    }\n",
              "\n",
              "    .dataframe tbody tr th {\n",
              "        vertical-align: top;\n",
              "    }\n",
              "\n",
              "    .dataframe thead th {\n",
              "        text-align: right;\n",
              "    }\n",
              "</style>\n",
              "<table border=\"1\" class=\"dataframe\">\n",
              "  <thead>\n",
              "    <tr style=\"text-align: right;\">\n",
              "      <th></th>\n",
              "      <th>INCOME</th>\n",
              "      <th>OVERAGE</th>\n",
              "      <th>LEFTOVER</th>\n",
              "      <th>HOUSE</th>\n",
              "      <th>HANDSET_PRICE</th>\n",
              "      <th>OVER_15MINS_CALLS_PER_MONTH</th>\n",
              "      <th>AVERAGE_CALL_DURATION</th>\n",
              "      <th>REPORTED_SATISFACTION</th>\n",
              "      <th>REPORTED_USAGE_LEVEL</th>\n",
              "      <th>CONSIDERING_CHANGE_OF_PLAN</th>\n",
              "      <th>LEAVE2</th>\n",
              "      <th>COLLEGE2</th>\n",
              "    </tr>\n",
              "  </thead>\n",
              "  <tbody>\n",
              "    <tr>\n",
              "      <th>0</th>\n",
              "      <td>31953</td>\n",
              "      <td>0</td>\n",
              "      <td>6</td>\n",
              "      <td>313378</td>\n",
              "      <td>161</td>\n",
              "      <td>0</td>\n",
              "      <td>4</td>\n",
              "      <td>2</td>\n",
              "      <td>2</td>\n",
              "      <td>3</td>\n",
              "      <td>1</td>\n",
              "      <td>0</td>\n",
              "    </tr>\n",
              "    <tr>\n",
              "      <th>1</th>\n",
              "      <td>36147</td>\n",
              "      <td>0</td>\n",
              "      <td>13</td>\n",
              "      <td>800586</td>\n",
              "      <td>244</td>\n",
              "      <td>0</td>\n",
              "      <td>6</td>\n",
              "      <td>2</td>\n",
              "      <td>2</td>\n",
              "      <td>1</td>\n",
              "      <td>1</td>\n",
              "      <td>1</td>\n",
              "    </tr>\n",
              "    <tr>\n",
              "      <th>2</th>\n",
              "      <td>27273</td>\n",
              "      <td>230</td>\n",
              "      <td>0</td>\n",
              "      <td>305049</td>\n",
              "      <td>201</td>\n",
              "      <td>16</td>\n",
              "      <td>15</td>\n",
              "      <td>2</td>\n",
              "      <td>4</td>\n",
              "      <td>4</td>\n",
              "      <td>1</td>\n",
              "      <td>1</td>\n",
              "    </tr>\n",
              "    <tr>\n",
              "      <th>3</th>\n",
              "      <td>120070</td>\n",
              "      <td>38</td>\n",
              "      <td>33</td>\n",
              "      <td>788235</td>\n",
              "      <td>780</td>\n",
              "      <td>3</td>\n",
              "      <td>2</td>\n",
              "      <td>2</td>\n",
              "      <td>3</td>\n",
              "      <td>1</td>\n",
              "      <td>0</td>\n",
              "      <td>0</td>\n",
              "    </tr>\n",
              "    <tr>\n",
              "      <th>4</th>\n",
              "      <td>29215</td>\n",
              "      <td>208</td>\n",
              "      <td>85</td>\n",
              "      <td>224784</td>\n",
              "      <td>241</td>\n",
              "      <td>21</td>\n",
              "      <td>1</td>\n",
              "      <td>4</td>\n",
              "      <td>2</td>\n",
              "      <td>2</td>\n",
              "      <td>1</td>\n",
              "      <td>1</td>\n",
              "    </tr>\n",
              "  </tbody>\n",
              "</table>\n",
              "</div>"
            ],
            "text/plain": [
              "   INCOME  OVERAGE  LEFTOVER   HOUSE  HANDSET_PRICE  \\\n",
              "0   31953        0         6  313378            161   \n",
              "1   36147        0        13  800586            244   \n",
              "2   27273      230         0  305049            201   \n",
              "3  120070       38        33  788235            780   \n",
              "4   29215      208        85  224784            241   \n",
              "\n",
              "   OVER_15MINS_CALLS_PER_MONTH  AVERAGE_CALL_DURATION  REPORTED_SATISFACTION  \\\n",
              "0                            0                      4                      2   \n",
              "1                            0                      6                      2   \n",
              "2                           16                     15                      2   \n",
              "3                            3                      2                      2   \n",
              "4                           21                      1                      4   \n",
              "\n",
              "   REPORTED_USAGE_LEVEL  CONSIDERING_CHANGE_OF_PLAN  LEAVE2  COLLEGE2  \n",
              "0                     2                           3       1         0  \n",
              "1                     2                           1       1         1  \n",
              "2                     4                           4       1         1  \n",
              "3                     3                           1       0         0  \n",
              "4                     2                           2       1         1  "
            ]
          },
          "execution_count": 57,
          "metadata": {},
          "output_type": "execute_result"
        }
      ],
      "source": [
        "df.head()"
      ]
    },
    {
      "cell_type": "markdown",
      "id": "87b0e8d2",
      "metadata": {
        "id": "87b0e8d2"
      },
      "source": [
        "## Splitting the data into test and train sets"
      ]
    },
    {
      "cell_type": "code",
      "execution_count": null,
      "id": "9e25a3c2",
      "metadata": {
        "id": "9e25a3c2"
      },
      "outputs": [],
      "source": [
        "# Names of different columns\n",
        "# EXAMPLE 1 for Jupyter notebook change below: change the predictor_cols to something else...\n",
        "#DF WITH predictor_cols = X\n",
        "#target_col = Y\n",
        "Y= df[\"LEAVE2\"]\n",
        "X= df.drop('LEAVE2', axis= \"columns\")\n",
        "\n",
        "from sklearn.model_selection import train_test_split\n",
        "\n",
        "# EXAMPLE 2 for Jupyter notebook change below:  USE ONLY 25% of the total data as the TEST set..\n",
        "# EXAMPLE 3 below.  Change random_state = 42 (or something else)\n",
        "\n",
        "X_train, X_test, y_train, y_test = train_test_split(X,Y,test_size = 0.25,random_state = 42)"
      ]
    },
    {
      "cell_type": "code",
      "execution_count": null,
      "id": "c74f71cb",
      "metadata": {
        "id": "c74f71cb",
        "outputId": "a6ac931f-4868-4342-cef4-f09ffcfe49eb"
      },
      "outputs": [
        {
          "name": "stdout",
          "output_type": "stream",
          "text": [
            "X_train shape: (15000, 11)\n",
            "X_test shape: (5000, 11)\n",
            "y_train shape: (15000,)\n",
            "y_test shape: (5000,)\n"
          ]
        }
      ],
      "source": [
        "print(\"X_train shape: {}\".format(X_train.shape))\n",
        "print(\"X_test shape: {}\".format(X_test.shape))\n",
        "print(\"y_train shape: {}\".format(y_train.shape))\n",
        "print(\"y_test shape: {}\".format(y_test.shape))"
      ]
    },
    {
      "cell_type": "markdown",
      "id": "114cb501",
      "metadata": {
        "id": "114cb501"
      },
      "source": [
        "##PART A Deliverable: Apply 10-fold cross-validation to build TWO distinct\n",
        "models to predict customer CHURN. The two techniques are a) Decision\n",
        "Trees and b) Logistic Regression. Use the best combination of predictor\n",
        "variables for this purpose (ok to use the variables in the Lab notebook for\n",
        "Decision trees)."
      ]
    },
    {
      "cell_type": "markdown",
      "id": "e8be6587",
      "metadata": {
        "id": "e8be6587"
      },
      "source": [
        "1) ##  Appendix A2 Decision Tree Model"
      ]
    },
    {
      "cell_type": "code",
      "execution_count": null,
      "id": "6f18e4ef",
      "metadata": {
        "id": "6f18e4ef",
        "outputId": "576ef2fd-397a-4983-cf70-a0d7e592c29a"
      },
      "outputs": [
        {
          "name": "stdout",
          "output_type": "stream",
          "text": [
            "DecisionTreeClassifier(criterion='entropy', max_depth=4, max_leaf_nodes=12)\n",
            "Cross validation scores: [0.706      0.70133333 0.70733333 0.67266667 0.68133333 0.70933333\n",
            " 0.706      0.686      0.70266667 0.704     ]\n",
            "Average cross validation score: 0.70\n",
            "Std. dev of cross validation score: 0.01\n",
            "Minimum of cross validation score: 0.67\n"
          ]
        }
      ],
      "source": [
        "# Let's define the model (tree),cross validating the model,fitting the model\n",
        "\n",
        "from sklearn.tree import DecisionTreeClassifier\n",
        "from sklearn.model_selection import cross_val_score\n",
        "\n",
        "my_decision_tree_model = DecisionTreeClassifier(max_depth=4, criterion=\"entropy\",max_leaf_nodes = 12, min_samples_leaf = 1)\n",
        "\n",
        "scores_d = cross_val_score(my_decision_tree_model,X_train,y_train, cv = 10)\n",
        "\n",
        "# Let's tell the model what is the data\n",
        "my_decision_tree_model.fit(X_train, y_train)\n",
        "print(my_decision_tree_model)\n",
        "\n",
        "print(\"Cross validation scores: {}\".format(scores_d))\n",
        "print(\"Average cross validation score: {:.2f}\".format(scores_d.mean()))\n",
        "print(\"Std. dev of cross validation score: {:.2f}\".format(scores_d.std()))\n",
        "print(\"Minimum of cross validation score: {:.2f}\".format(scores_d.min()))\n"
      ]
    },
    {
      "cell_type": "code",
      "execution_count": null,
      "id": "6fe0bbe8",
      "metadata": {
        "id": "6fe0bbe8",
        "outputId": "c9afe301-1037-41cb-be5f-5160c5c5c95c"
      },
      "outputs": [
        {
          "name": "stdout",
          "output_type": "stream",
          "text": [
            "X_train shape: (15000, 11)\n",
            "X_test shape: (5000, 11)\n",
            "y_train shape: (15000,)\n",
            "y_test shape: (5000,)\n"
          ]
        }
      ],
      "source": [
        "print(\"X_train shape: {}\".format(X_train.shape))\n",
        "print(\"X_test shape: {}\".format(X_test.shape))\n",
        "print(\"y_train shape: {}\".format(y_train.shape))\n",
        "print(\"y_test shape: {}\".format(y_test.shape))"
      ]
    },
    {
      "cell_type": "code",
      "execution_count": null,
      "id": "39f95d71",
      "metadata": {
        "id": "39f95d71"
      },
      "outputs": [],
      "source": [
        "from IPython.display import Image\n",
        "from sklearn.tree import export_graphviz\n",
        "\n",
        "def visualize_tree(decision_tree, feature_names, class_names, directory=\"./images\", name=\"tree\",proportion=True):\n",
        "    # Export our decision tree to graphviz format\n",
        "    directory1 = directory[2:]\n",
        "    os.system(\"mkdir %s\" %(directory1))\n",
        "    dot_name = \"%s/%s.dot\" % (directory, name)\n",
        "    dot_file = export_graphviz(decision_tree, out_file=dot_name,feature_names=feature_names,class_names=class_names,\n",
        "                               proportion=proportion)\n",
        "    # Call graphviz to make an image file from our decision tree\n",
        "    image_name = \"%s/%s.png\" % (directory, name)\n",
        "    print(dot_name)\n",
        "    print(image_name)\n",
        "    #os.system(\"dot -Tpng %s  -o %s\" % (dot_name, image_name))\n",
        "    os.system(\"dot -Tpng %s  -o %s\" % (dot_name, image_name))\n",
        "\n",
        "    return Image(filename=image_name)\n"
      ]
    },
    {
      "cell_type": "code",
      "execution_count": null,
      "id": "7af3698d",
      "metadata": {
        "id": "7af3698d",
        "outputId": "5f68711a-dc3e-4f80-aeeb-3436a0e03e82"
      },
      "outputs": [
        {
          "name": "stdout",
          "output_type": "stream",
          "text": [
            "./images/tree.dot\n",
            "./images/tree.png\n"
          ]
        },
        {
          "data": {
            "image/png": "[encoded data removed]",
            "text/plain": [
              "<IPython.core.display.Image object>"
            ]
          },
          "execution_count": 96,
          "metadata": {},
          "output_type": "execute_result"
        }
      ],
      "source": [
        "my_decision_tree_model.fit(X_train, y_train)\n",
        "visualize_tree(my_decision_tree_model, X.columns, ['STAY', 'LEAVE'])"
      ]
    },
    {
      "cell_type": "markdown",
      "id": "15bfa5b7",
      "metadata": {
        "id": "15bfa5b7"
      },
      "source": [
        "2. ## Appendix A3 Logistic Regression Model"
      ]
    },
    {
      "cell_type": "code",
      "execution_count": null,
      "id": "e3919c97",
      "metadata": {
        "id": "e3919c97",
        "outputId": "f244ab90-64a4-4edb-9574-d2ea10406305"
      },
      "outputs": [
        {
          "name": "stdout",
          "output_type": "stream",
          "text": [
            "LogisticRegression(max_iter=10000)\n",
            "Cross validation scores: [0.6        0.632      0.63466667 0.64533333 0.628      0.638\n",
            " 0.64       0.63333333 0.63066667 0.62533333]\n",
            "Average cross validation score: 0.63\n",
            "Std. dev of cross validation score: 0.01\n",
            "Minimum of cross validation score: 0.60\n"
          ]
        }
      ],
      "source": [
        "from sklearn.model_selection import cross_val_score\n",
        "from sklearn.linear_model import LogisticRegression\n",
        "logreg = LogisticRegression(max_iter = 10000)\n",
        "scores_lr = cross_val_score(logreg,X_train,y_train, cv = 10)\n",
        "logreg.fit(X, Y)\n",
        "\n",
        "print(logreg)\n",
        "print(\"Cross validation scores: {}\".format(scores_lr))\n",
        "\n",
        "print(\"Average cross validation score: {:.2f}\".format(scores_lr.mean()))\n",
        "print(\"Std. dev of cross validation score: {:.2f}\".format(scores_lr.std()))\n",
        "print(\"Minimum of cross validation score: {:.2f}\".format(scores_lr.min()))"
      ]
    },
    {
      "cell_type": "code",
      "execution_count": null,
      "id": "90509df3",
      "metadata": {
        "id": "90509df3"
      },
      "outputs": [],
      "source": [
        "# Storing the accuracy scores\n",
        "new_df = pd.DataFrame()\n",
        "new_df['DT Accuracy'] = scores_d\n",
        "new_df['LR Accuracy'] = scores_lr\n"
      ]
    },
    {
      "cell_type": "code",
      "execution_count": null,
      "id": "05b87782",
      "metadata": {
        "id": "05b87782",
        "outputId": "969903f7-0bd2-4ca6-abd2-7f459dc1e6c6"
      },
      "outputs": [
        {
          "data": {
            "text/html": [
              "<div>\n",
              "<style scoped>\n",
              "    .dataframe tbody tr th:only-of-type {\n",
              "        vertical-align: middle;\n",
              "    }\n",
              "\n",
              "    .dataframe tbody tr th {\n",
              "        vertical-align: top;\n",
              "    }\n",
              "\n",
              "    .dataframe thead th {\n",
              "        text-align: right;\n",
              "    }\n",
              "</style>\n",
              "<table border=\"1\" class=\"dataframe\">\n",
              "  <thead>\n",
              "    <tr style=\"text-align: right;\">\n",
              "      <th></th>\n",
              "      <th>DT Accuracy</th>\n",
              "      <th>LR Accuracy</th>\n",
              "    </tr>\n",
              "  </thead>\n",
              "  <tbody>\n",
              "    <tr>\n",
              "      <th>0</th>\n",
              "      <td>0.706000</td>\n",
              "      <td>0.600000</td>\n",
              "    </tr>\n",
              "    <tr>\n",
              "      <th>1</th>\n",
              "      <td>0.701333</td>\n",
              "      <td>0.632000</td>\n",
              "    </tr>\n",
              "    <tr>\n",
              "      <th>2</th>\n",
              "      <td>0.707333</td>\n",
              "      <td>0.634667</td>\n",
              "    </tr>\n",
              "    <tr>\n",
              "      <th>3</th>\n",
              "      <td>0.672667</td>\n",
              "      <td>0.645333</td>\n",
              "    </tr>\n",
              "    <tr>\n",
              "      <th>4</th>\n",
              "      <td>0.681333</td>\n",
              "      <td>0.628000</td>\n",
              "    </tr>\n",
              "    <tr>\n",
              "      <th>5</th>\n",
              "      <td>0.709333</td>\n",
              "      <td>0.638000</td>\n",
              "    </tr>\n",
              "    <tr>\n",
              "      <th>6</th>\n",
              "      <td>0.706000</td>\n",
              "      <td>0.640000</td>\n",
              "    </tr>\n",
              "    <tr>\n",
              "      <th>7</th>\n",
              "      <td>0.686000</td>\n",
              "      <td>0.633333</td>\n",
              "    </tr>\n",
              "    <tr>\n",
              "      <th>8</th>\n",
              "      <td>0.702667</td>\n",
              "      <td>0.630667</td>\n",
              "    </tr>\n",
              "    <tr>\n",
              "      <th>9</th>\n",
              "      <td>0.704000</td>\n",
              "      <td>0.625333</td>\n",
              "    </tr>\n",
              "  </tbody>\n",
              "</table>\n",
              "</div>"
            ],
            "text/plain": [
              "   DT Accuracy  LR Accuracy\n",
              "0     0.706000     0.600000\n",
              "1     0.701333     0.632000\n",
              "2     0.707333     0.634667\n",
              "3     0.672667     0.645333\n",
              "4     0.681333     0.628000\n",
              "5     0.709333     0.638000\n",
              "6     0.706000     0.640000\n",
              "7     0.686000     0.633333\n",
              "8     0.702667     0.630667\n",
              "9     0.704000     0.625333"
            ]
          },
          "execution_count": 111,
          "metadata": {},
          "output_type": "execute_result"
        }
      ],
      "source": [
        "new_df\n",
        "#new_df.to_csv('Accuracy_table.csv')"
      ]
    },
    {
      "cell_type": "markdown",
      "id": "e03c3bf4",
      "metadata": {
        "id": "e03c3bf4"
      },
      "source": [
        "## Confusion Matrix"
      ]
    },
    {
      "cell_type": "code",
      "execution_count": null,
      "id": "9b4f462a",
      "metadata": {
        "id": "9b4f462a",
        "outputId": "4e76cf3f-cb96-4f71-a86e-f9d0c5237bb5"
      },
      "outputs": [
        {
          "name": "stdout",
          "output_type": "stream",
          "text": [
            "[0.30401808 0.32242822 0.72183081 ... 0.25203562 0.58169264 0.38131744]\n"
          ]
        }
      ],
      "source": [
        "# Make and fit a model on the training data\n",
        "logreg = LogisticRegression(C=1000000, solver='liblinear')\n",
        "logreg.fit(X,Y)\n",
        "\n",
        "# Get probabilities of being a (We saw this last class !!)\n",
        "probabilities = logreg.predict_proba(X_test)[:, 1]\n",
        "\n",
        "print(probabilities)"
      ]
    },
    {
      "cell_type": "code",
      "execution_count": null,
      "id": "f4452637",
      "metadata": {
        "id": "f4452637",
        "outputId": "aae6ad84-f381-4a3b-82ad-3de573f5121b"
      },
      "outputs": [
        {
          "name": "stdout",
          "output_type": "stream",
          "text": [
            "[False False  True ... False  True False]\n"
          ]
        }
      ],
      "source": [
        "Y_predictions = probabilities > .5\n",
        "print(Y_predictions)"
      ]
    },
    {
      "cell_type": "code",
      "execution_count": null,
      "id": "20115902",
      "metadata": {
        "id": "20115902",
        "outputId": "25a6202e-6bfe-4ccf-cec6-0c6aa6172c2e"
      },
      "outputs": [
        {
          "name": "stdout",
          "output_type": "stream",
          "text": [
            "10650    0\n",
            "2041     0\n",
            "8668     0\n",
            "1114     0\n",
            "13902    0\n",
            "        ..\n",
            "3761     0\n",
            "5478     0\n",
            "5805     0\n",
            "10084    1\n",
            "13494    0\n",
            "Name: LEAVE2, Length: 5000, dtype: int32\n"
          ]
        }
      ],
      "source": [
        "print(y_test)"
      ]
    },
    {
      "cell_type": "code",
      "execution_count": null,
      "id": "6f6bf9c7",
      "metadata": {
        "id": "6f6bf9c7"
      },
      "outputs": [],
      "source": [
        "Y_actual = y_test.tolist()"
      ]
    },
    {
      "cell_type": "code",
      "execution_count": null,
      "id": "efaa8f3f",
      "metadata": {
        "id": "efaa8f3f",
        "outputId": "bafd7d13-82b4-4f91-de6b-f6feaded47de"
      },
      "outputs": [
        {
          "name": "stdout",
          "output_type": "stream",
          "text": [
            "[[1672  907]\n",
            " [ 891 1530]]\n"
          ]
        }
      ],
      "source": [
        "CM = metrics.confusion_matrix(Y_actual,Y_predictions,labels = [1,0]).T\n",
        "\n",
        "print(CM)"
      ]
    },
    {
      "cell_type": "code",
      "execution_count": null,
      "id": "e6f25858",
      "metadata": {
        "id": "e6f25858",
        "outputId": "d59a449f-a786-4df6-9a4e-dde07e23714d"
      },
      "outputs": [
        {
          "name": "stdout",
          "output_type": "stream",
          "text": [
            "      p     n\n",
            "Y  1672   907\n",
            "N   891  1530\n"
          ]
        }
      ],
      "source": [
        "cm_df = pd.DataFrame(CM, columns=['p', 'n'], index=['Y', 'N'])\n",
        "print (cm_df)"
      ]
    },
    {
      "cell_type": "code",
      "execution_count": null,
      "id": "012a8927",
      "metadata": {
        "id": "012a8927"
      },
      "outputs": [],
      "source": [
        "sum_n = cm_df['n'].sum()"
      ]
    },
    {
      "cell_type": "code",
      "execution_count": null,
      "id": "ccbea2af",
      "metadata": {
        "id": "ccbea2af"
      },
      "outputs": [],
      "source": [
        "false_p = cm_df.loc['Y', 'n']"
      ]
    },
    {
      "cell_type": "code",
      "execution_count": null,
      "id": "38f96f69",
      "metadata": {
        "id": "38f96f69",
        "outputId": "e30c80cf-7e1b-4cab-89b8-1bc6abde4802"
      },
      "outputs": [
        {
          "name": "stdout",
          "output_type": "stream",
          "text": [
            "0.37217890849405005\n"
          ]
        }
      ],
      "source": [
        "false_pr = false_p/sum_n\n",
        "print(false_pr)"
      ]
    }
  ],
  "metadata": {
    "kernelspec": {
      "display_name": "Python 3 (ipykernel)",
      "language": "python",
      "name": "python3"
    },
    "language_info": {
      "codemirror_mode": {
        "name": "ipython",
        "version": 3
      },
      "file_extension": ".py",
      "mimetype": "text/x-python",
      "name": "python",
      "nbconvert_exporter": "python",
      "pygments_lexer": "ipython3",
      "version": "3.9.12"
    },
    "colab": {
      "provenance": []
    }
  },
  "nbformat": 4,
  "nbformat_minor": 5
}